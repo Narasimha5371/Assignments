{
 "cells": [
  {
   "cell_type": "code",
   "execution_count": 1,
   "id": "20bc11e8-d6a8-4e9e-9b31-96435c227883",
   "metadata": {},
   "outputs": [],
   "source": [
    "import numpy as np\n",
    "import pandas as pd\n",
    "import scipy.stats as st"
   ]
  },
  {
   "cell_type": "code",
   "execution_count": 2,
   "id": "d5e43865-c5e4-4c85-9ce2-eadcd0b66501",
   "metadata": {},
   "outputs": [
    {
     "name": "stdout",
     "output_type": "stream",
     "text": [
      "22.3\n",
      "21.0\n",
      "ModeResult(mode=15, count=3)\n"
     ]
    }
   ],
   "source": [
    "#1\n",
    "arr = np.array([15, 21, 29, 21, 15, 24, 32, 21, 15, 30])\n",
    "print(arr.mean())\n",
    "print(np.median(arr))\n",
    "print(st.mode(arr))"
   ]
  },
  {
   "cell_type": "code",
   "execution_count": 3,
   "id": "f3d4cc37-a82e-4bc1-a9bf-3b305d76c5b1",
   "metadata": {},
   "outputs": [],
   "source": [
    "#2\n",
    "x=pd.read_csv(\"robot_dataset(robot_dataset)_1.csv\")"
   ]
  },
  {
   "cell_type": "code",
   "execution_count": 4,
   "id": "e964673d-77b6-4145-a755-7fbb8ff761aa",
   "metadata": {},
   "outputs": [
    {
     "data": {
      "text/html": [
       "<div>\n",
       "<style scoped>\n",
       "    .dataframe tbody tr th:only-of-type {\n",
       "        vertical-align: middle;\n",
       "    }\n",
       "\n",
       "    .dataframe tbody tr th {\n",
       "        vertical-align: top;\n",
       "    }\n",
       "\n",
       "    .dataframe thead th {\n",
       "        text-align: right;\n",
       "    }\n",
       "</style>\n",
       "<table border=\"1\" class=\"dataframe\">\n",
       "  <thead>\n",
       "    <tr style=\"text-align: right;\">\n",
       "      <th></th>\n",
       "      <th>Robot_ID</th>\n",
       "      <th>Task_Type</th>\n",
       "      <th>Component_ID</th>\n",
       "      <th>Sensor_Type</th>\n",
       "      <th>Sensor_Data</th>\n",
       "      <th>Processing_Time (s)</th>\n",
       "      <th>Accuracy (%)</th>\n",
       "      <th>Environmental_Status</th>\n",
       "      <th>Energy_Consumption (kWh)</th>\n",
       "      <th>Human_Intervention_Needed</th>\n",
       "      <th>Obstacle_Detected</th>\n",
       "      <th>Defect_Detected</th>\n",
       "      <th>Interaction_Count</th>\n",
       "      <th>Steps_Walked</th>\n",
       "      <th>Objects_Recognized</th>\n",
       "      <th>Learning_Sessions</th>\n",
       "      <th>Energy_Consumption (kWh).1</th>\n",
       "    </tr>\n",
       "  </thead>\n",
       "  <tbody>\n",
       "    <tr>\n",
       "      <th>0</th>\n",
       "      <td>RBT_001</td>\n",
       "      <td>Inspection</td>\n",
       "      <td>CMP_460</td>\n",
       "      <td>LIDAR</td>\n",
       "      <td>1 (obstacle detected)</td>\n",
       "      <td>67.0</td>\n",
       "      <td>90.4</td>\n",
       "      <td>Stable</td>\n",
       "      <td>2.2</td>\n",
       "      <td>No</td>\n",
       "      <td>Yes</td>\n",
       "      <td>Yes</td>\n",
       "      <td>2</td>\n",
       "      <td>10</td>\n",
       "      <td>2</td>\n",
       "      <td>10</td>\n",
       "      <td>100</td>\n",
       "    </tr>\n",
       "    <tr>\n",
       "      <th>1</th>\n",
       "      <td>RBT_002</td>\n",
       "      <td>Assembly</td>\n",
       "      <td>CMP_252</td>\n",
       "      <td>Thermal</td>\n",
       "      <td>85.3 (Â°C)</td>\n",
       "      <td>71.2</td>\n",
       "      <td>98.1</td>\n",
       "      <td>Stable</td>\n",
       "      <td>2.7</td>\n",
       "      <td>Yes</td>\n",
       "      <td>No</td>\n",
       "      <td>No</td>\n",
       "      <td>6</td>\n",
       "      <td>23</td>\n",
       "      <td>4</td>\n",
       "      <td>12</td>\n",
       "      <td>123</td>\n",
       "    </tr>\n",
       "    <tr>\n",
       "      <th>2</th>\n",
       "      <td>RBT_003</td>\n",
       "      <td>Inspection</td>\n",
       "      <td>CMP_248</td>\n",
       "      <td>Thermal</td>\n",
       "      <td>92% (visual fit)</td>\n",
       "      <td>49.2</td>\n",
       "      <td>95.3</td>\n",
       "      <td>Unstable</td>\n",
       "      <td>2.4</td>\n",
       "      <td>No</td>\n",
       "      <td>No</td>\n",
       "      <td>No</td>\n",
       "      <td>2</td>\n",
       "      <td>25</td>\n",
       "      <td>3</td>\n",
       "      <td>45</td>\n",
       "      <td>321</td>\n",
       "    </tr>\n",
       "    <tr>\n",
       "      <th>3</th>\n",
       "      <td>RBT_004</td>\n",
       "      <td>Welding</td>\n",
       "      <td>CMP_433</td>\n",
       "      <td>Camera</td>\n",
       "      <td>98% (defect-free)</td>\n",
       "      <td>74.5</td>\n",
       "      <td>90.2</td>\n",
       "      <td>Stable</td>\n",
       "      <td>2.4</td>\n",
       "      <td>Yes</td>\n",
       "      <td>No</td>\n",
       "      <td>Yes</td>\n",
       "      <td>7</td>\n",
       "      <td>34</td>\n",
       "      <td>5</td>\n",
       "      <td>12</td>\n",
       "      <td>456</td>\n",
       "    </tr>\n",
       "    <tr>\n",
       "      <th>4</th>\n",
       "      <td>RBT_005</td>\n",
       "      <td>Assembly</td>\n",
       "      <td>CMP_992</td>\n",
       "      <td>Camera</td>\n",
       "      <td>92% (visual fit)</td>\n",
       "      <td>64.5</td>\n",
       "      <td>97.2</td>\n",
       "      <td>Unstable</td>\n",
       "      <td>1.8</td>\n",
       "      <td>No</td>\n",
       "      <td>No</td>\n",
       "      <td>No</td>\n",
       "      <td>8</td>\n",
       "      <td>35</td>\n",
       "      <td>3</td>\n",
       "      <td>32</td>\n",
       "      <td>654</td>\n",
       "    </tr>\n",
       "  </tbody>\n",
       "</table>\n",
       "</div>"
      ],
      "text/plain": [
       "  Robot_ID   Task_Type Component_ID Sensor_Type            Sensor_Data  \\\n",
       "0  RBT_001  Inspection      CMP_460       LIDAR  1 (obstacle detected)   \n",
       "1  RBT_002    Assembly      CMP_252     Thermal             85.3 (Â°C)   \n",
       "2  RBT_003  Inspection      CMP_248     Thermal       92% (visual fit)   \n",
       "3  RBT_004     Welding      CMP_433      Camera      98% (defect-free)   \n",
       "4  RBT_005    Assembly      CMP_992      Camera       92% (visual fit)   \n",
       "\n",
       "   Processing_Time (s)  Accuracy (%) Environmental_Status  \\\n",
       "0                 67.0          90.4               Stable   \n",
       "1                 71.2          98.1               Stable   \n",
       "2                 49.2          95.3             Unstable   \n",
       "3                 74.5          90.2               Stable   \n",
       "4                 64.5          97.2             Unstable   \n",
       "\n",
       "   Energy_Consumption (kWh) Human_Intervention_Needed Obstacle_Detected  \\\n",
       "0                       2.2                        No               Yes   \n",
       "1                       2.7                       Yes                No   \n",
       "2                       2.4                        No                No   \n",
       "3                       2.4                       Yes                No   \n",
       "4                       1.8                        No                No   \n",
       "\n",
       "  Defect_Detected  Interaction_Count  Steps_Walked  Objects_Recognized  \\\n",
       "0             Yes                  2            10                   2   \n",
       "1              No                  6            23                   4   \n",
       "2              No                  2            25                   3   \n",
       "3             Yes                  7            34                   5   \n",
       "4              No                  8            35                   3   \n",
       "\n",
       "   Learning_Sessions  Energy_Consumption (kWh).1  \n",
       "0                 10                         100  \n",
       "1                 12                         123  \n",
       "2                 45                         321  \n",
       "3                 12                         456  \n",
       "4                 32                         654  "
      ]
     },
     "execution_count": 4,
     "metadata": {},
     "output_type": "execute_result"
    }
   ],
   "source": [
    "x.head()"
   ]
  },
  {
   "cell_type": "code",
   "execution_count": 5,
   "id": "6d31c32a-f594-4fa5-b7ed-91ed00fedd7a",
   "metadata": {},
   "outputs": [
    {
     "data": {
      "text/html": [
       "<div>\n",
       "<style scoped>\n",
       "    .dataframe tbody tr th:only-of-type {\n",
       "        vertical-align: middle;\n",
       "    }\n",
       "\n",
       "    .dataframe tbody tr th {\n",
       "        vertical-align: top;\n",
       "    }\n",
       "\n",
       "    .dataframe thead th {\n",
       "        text-align: right;\n",
       "    }\n",
       "</style>\n",
       "<table border=\"1\" class=\"dataframe\">\n",
       "  <thead>\n",
       "    <tr style=\"text-align: right;\">\n",
       "      <th></th>\n",
       "      <th>Robot_ID</th>\n",
       "      <th>Task_Type</th>\n",
       "      <th>Component_ID</th>\n",
       "      <th>Sensor_Type</th>\n",
       "      <th>Sensor_Data</th>\n",
       "      <th>Processing_Time (s)</th>\n",
       "      <th>Accuracy (%)</th>\n",
       "      <th>Environmental_Status</th>\n",
       "      <th>Energy_Consumption (kWh)</th>\n",
       "      <th>Human_Intervention_Needed</th>\n",
       "      <th>Obstacle_Detected</th>\n",
       "      <th>Defect_Detected</th>\n",
       "      <th>Interaction_Count</th>\n",
       "      <th>Steps_Walked</th>\n",
       "      <th>Objects_Recognized</th>\n",
       "      <th>Learning_Sessions</th>\n",
       "      <th>Energy_Consumption (kWh).1</th>\n",
       "    </tr>\n",
       "  </thead>\n",
       "  <tbody>\n",
       "    <tr>\n",
       "      <th>0</th>\n",
       "      <td>RBT_001</td>\n",
       "      <td>Inspection</td>\n",
       "      <td>CMP_460</td>\n",
       "      <td>LIDAR</td>\n",
       "      <td>1 (obstacle detected)</td>\n",
       "      <td>67.0</td>\n",
       "      <td>90.4</td>\n",
       "      <td>Stable</td>\n",
       "      <td>2.2</td>\n",
       "      <td>No</td>\n",
       "      <td>Yes</td>\n",
       "      <td>Yes</td>\n",
       "      <td>2</td>\n",
       "      <td>10</td>\n",
       "      <td>2</td>\n",
       "      <td>10</td>\n",
       "      <td>100</td>\n",
       "    </tr>\n",
       "    <tr>\n",
       "      <th>1</th>\n",
       "      <td>RBT_002</td>\n",
       "      <td>Assembly</td>\n",
       "      <td>CMP_252</td>\n",
       "      <td>Thermal</td>\n",
       "      <td>85.3 (Â°C)</td>\n",
       "      <td>71.2</td>\n",
       "      <td>98.1</td>\n",
       "      <td>Stable</td>\n",
       "      <td>2.7</td>\n",
       "      <td>Yes</td>\n",
       "      <td>No</td>\n",
       "      <td>No</td>\n",
       "      <td>6</td>\n",
       "      <td>23</td>\n",
       "      <td>4</td>\n",
       "      <td>12</td>\n",
       "      <td>123</td>\n",
       "    </tr>\n",
       "    <tr>\n",
       "      <th>2</th>\n",
       "      <td>RBT_003</td>\n",
       "      <td>Inspection</td>\n",
       "      <td>CMP_248</td>\n",
       "      <td>Thermal</td>\n",
       "      <td>92% (visual fit)</td>\n",
       "      <td>49.2</td>\n",
       "      <td>95.3</td>\n",
       "      <td>Unstable</td>\n",
       "      <td>2.4</td>\n",
       "      <td>No</td>\n",
       "      <td>No</td>\n",
       "      <td>No</td>\n",
       "      <td>2</td>\n",
       "      <td>25</td>\n",
       "      <td>3</td>\n",
       "      <td>45</td>\n",
       "      <td>321</td>\n",
       "    </tr>\n",
       "    <tr>\n",
       "      <th>3</th>\n",
       "      <td>RBT_004</td>\n",
       "      <td>Welding</td>\n",
       "      <td>CMP_433</td>\n",
       "      <td>Camera</td>\n",
       "      <td>98% (defect-free)</td>\n",
       "      <td>74.5</td>\n",
       "      <td>90.2</td>\n",
       "      <td>Stable</td>\n",
       "      <td>2.4</td>\n",
       "      <td>Yes</td>\n",
       "      <td>No</td>\n",
       "      <td>Yes</td>\n",
       "      <td>7</td>\n",
       "      <td>34</td>\n",
       "      <td>5</td>\n",
       "      <td>12</td>\n",
       "      <td>456</td>\n",
       "    </tr>\n",
       "    <tr>\n",
       "      <th>4</th>\n",
       "      <td>RBT_005</td>\n",
       "      <td>Assembly</td>\n",
       "      <td>CMP_992</td>\n",
       "      <td>Camera</td>\n",
       "      <td>92% (visual fit)</td>\n",
       "      <td>64.5</td>\n",
       "      <td>97.2</td>\n",
       "      <td>Unstable</td>\n",
       "      <td>1.8</td>\n",
       "      <td>No</td>\n",
       "      <td>No</td>\n",
       "      <td>No</td>\n",
       "      <td>8</td>\n",
       "      <td>35</td>\n",
       "      <td>3</td>\n",
       "      <td>32</td>\n",
       "      <td>654</td>\n",
       "    </tr>\n",
       "    <tr>\n",
       "      <th>...</th>\n",
       "      <td>...</td>\n",
       "      <td>...</td>\n",
       "      <td>...</td>\n",
       "      <td>...</td>\n",
       "      <td>...</td>\n",
       "      <td>...</td>\n",
       "      <td>...</td>\n",
       "      <td>...</td>\n",
       "      <td>...</td>\n",
       "      <td>...</td>\n",
       "      <td>...</td>\n",
       "      <td>...</td>\n",
       "      <td>...</td>\n",
       "      <td>...</td>\n",
       "      <td>...</td>\n",
       "      <td>...</td>\n",
       "      <td>...</td>\n",
       "    </tr>\n",
       "    <tr>\n",
       "      <th>495</th>\n",
       "      <td>RBT_496</td>\n",
       "      <td>Inspection</td>\n",
       "      <td>CMP_834</td>\n",
       "      <td>LIDAR</td>\n",
       "      <td>85.3 (Â°C)</td>\n",
       "      <td>66.3</td>\n",
       "      <td>96.2</td>\n",
       "      <td>Unstable</td>\n",
       "      <td>1.3</td>\n",
       "      <td>No</td>\n",
       "      <td>Yes</td>\n",
       "      <td>No</td>\n",
       "      <td>4</td>\n",
       "      <td>49</td>\n",
       "      <td>4</td>\n",
       "      <td>49</td>\n",
       "      <td>130</td>\n",
       "    </tr>\n",
       "    <tr>\n",
       "      <th>496</th>\n",
       "      <td>RBT_497</td>\n",
       "      <td>Inspection</td>\n",
       "      <td>CMP_851</td>\n",
       "      <td>LIDAR</td>\n",
       "      <td>92% (visual fit)</td>\n",
       "      <td>45.1</td>\n",
       "      <td>92.8</td>\n",
       "      <td>Unstable</td>\n",
       "      <td>2.3</td>\n",
       "      <td>No</td>\n",
       "      <td>Yes</td>\n",
       "      <td>Yes</td>\n",
       "      <td>5</td>\n",
       "      <td>43</td>\n",
       "      <td>8</td>\n",
       "      <td>56</td>\n",
       "      <td>124</td>\n",
       "    </tr>\n",
       "    <tr>\n",
       "      <th>497</th>\n",
       "      <td>RBT_498</td>\n",
       "      <td>Inspection</td>\n",
       "      <td>CMP_657</td>\n",
       "      <td>LIDAR</td>\n",
       "      <td>82.4 (Â°C)</td>\n",
       "      <td>75.4</td>\n",
       "      <td>98.7</td>\n",
       "      <td>Unstable</td>\n",
       "      <td>2.6</td>\n",
       "      <td>Yes</td>\n",
       "      <td>No</td>\n",
       "      <td>No</td>\n",
       "      <td>6</td>\n",
       "      <td>23</td>\n",
       "      <td>9</td>\n",
       "      <td>23</td>\n",
       "      <td>107</td>\n",
       "    </tr>\n",
       "    <tr>\n",
       "      <th>498</th>\n",
       "      <td>RBT_499</td>\n",
       "      <td>Assembly</td>\n",
       "      <td>CMP_562</td>\n",
       "      <td>Camera</td>\n",
       "      <td>98% (defect-free)</td>\n",
       "      <td>48.7</td>\n",
       "      <td>94.9</td>\n",
       "      <td>Stable</td>\n",
       "      <td>2.2</td>\n",
       "      <td>No</td>\n",
       "      <td>Yes</td>\n",
       "      <td>No</td>\n",
       "      <td>4</td>\n",
       "      <td>31</td>\n",
       "      <td>3</td>\n",
       "      <td>45</td>\n",
       "      <td>108</td>\n",
       "    </tr>\n",
       "    <tr>\n",
       "      <th>499</th>\n",
       "      <td>RBT_500</td>\n",
       "      <td>Assembly</td>\n",
       "      <td>CMP_465</td>\n",
       "      <td>LIDAR + Camera</td>\n",
       "      <td>75.8 (Â°C)</td>\n",
       "      <td>73.5</td>\n",
       "      <td>91.4</td>\n",
       "      <td>Stable</td>\n",
       "      <td>2.0</td>\n",
       "      <td>Yes</td>\n",
       "      <td>No</td>\n",
       "      <td>Yes</td>\n",
       "      <td>5</td>\n",
       "      <td>49</td>\n",
       "      <td>2</td>\n",
       "      <td>78</td>\n",
       "      <td>109</td>\n",
       "    </tr>\n",
       "  </tbody>\n",
       "</table>\n",
       "<p>500 rows × 17 columns</p>\n",
       "</div>"
      ],
      "text/plain": [
       "    Robot_ID   Task_Type Component_ID     Sensor_Type            Sensor_Data  \\\n",
       "0    RBT_001  Inspection      CMP_460           LIDAR  1 (obstacle detected)   \n",
       "1    RBT_002    Assembly      CMP_252         Thermal             85.3 (Â°C)   \n",
       "2    RBT_003  Inspection      CMP_248         Thermal       92% (visual fit)   \n",
       "3    RBT_004     Welding      CMP_433          Camera      98% (defect-free)   \n",
       "4    RBT_005    Assembly      CMP_992          Camera       92% (visual fit)   \n",
       "..       ...         ...          ...             ...                    ...   \n",
       "495  RBT_496  Inspection      CMP_834           LIDAR             85.3 (Â°C)   \n",
       "496  RBT_497  Inspection      CMP_851           LIDAR       92% (visual fit)   \n",
       "497  RBT_498  Inspection      CMP_657           LIDAR             82.4 (Â°C)   \n",
       "498  RBT_499    Assembly      CMP_562          Camera      98% (defect-free)   \n",
       "499  RBT_500    Assembly      CMP_465  LIDAR + Camera             75.8 (Â°C)   \n",
       "\n",
       "     Processing_Time (s)  Accuracy (%) Environmental_Status  \\\n",
       "0                   67.0          90.4               Stable   \n",
       "1                   71.2          98.1               Stable   \n",
       "2                   49.2          95.3             Unstable   \n",
       "3                   74.5          90.2               Stable   \n",
       "4                   64.5          97.2             Unstable   \n",
       "..                   ...           ...                  ...   \n",
       "495                 66.3          96.2             Unstable   \n",
       "496                 45.1          92.8             Unstable   \n",
       "497                 75.4          98.7             Unstable   \n",
       "498                 48.7          94.9               Stable   \n",
       "499                 73.5          91.4               Stable   \n",
       "\n",
       "     Energy_Consumption (kWh) Human_Intervention_Needed Obstacle_Detected  \\\n",
       "0                         2.2                        No               Yes   \n",
       "1                         2.7                       Yes                No   \n",
       "2                         2.4                        No                No   \n",
       "3                         2.4                       Yes                No   \n",
       "4                         1.8                        No                No   \n",
       "..                        ...                       ...               ...   \n",
       "495                       1.3                        No               Yes   \n",
       "496                       2.3                        No               Yes   \n",
       "497                       2.6                       Yes                No   \n",
       "498                       2.2                        No               Yes   \n",
       "499                       2.0                       Yes                No   \n",
       "\n",
       "    Defect_Detected  Interaction_Count  Steps_Walked  Objects_Recognized  \\\n",
       "0               Yes                  2            10                   2   \n",
       "1                No                  6            23                   4   \n",
       "2                No                  2            25                   3   \n",
       "3               Yes                  7            34                   5   \n",
       "4                No                  8            35                   3   \n",
       "..              ...                ...           ...                 ...   \n",
       "495              No                  4            49                   4   \n",
       "496             Yes                  5            43                   8   \n",
       "497              No                  6            23                   9   \n",
       "498              No                  4            31                   3   \n",
       "499             Yes                  5            49                   2   \n",
       "\n",
       "     Learning_Sessions  Energy_Consumption (kWh).1  \n",
       "0                   10                         100  \n",
       "1                   12                         123  \n",
       "2                   45                         321  \n",
       "3                   12                         456  \n",
       "4                   32                         654  \n",
       "..                 ...                         ...  \n",
       "495                 49                         130  \n",
       "496                 56                         124  \n",
       "497                 23                         107  \n",
       "498                 45                         108  \n",
       "499                 78                         109  \n",
       "\n",
       "[500 rows x 17 columns]"
      ]
     },
     "execution_count": 5,
     "metadata": {},
     "output_type": "execute_result"
    }
   ],
   "source": [
    "x"
   ]
  },
  {
   "cell_type": "code",
   "execution_count": 6,
   "id": "8913ee51-900d-4b07-b630-32a09c1efc3d",
   "metadata": {},
   "outputs": [
    {
     "data": {
      "text/html": [
       "<div>\n",
       "<style scoped>\n",
       "    .dataframe tbody tr th:only-of-type {\n",
       "        vertical-align: middle;\n",
       "    }\n",
       "\n",
       "    .dataframe tbody tr th {\n",
       "        vertical-align: top;\n",
       "    }\n",
       "\n",
       "    .dataframe thead th {\n",
       "        text-align: right;\n",
       "    }\n",
       "</style>\n",
       "<table border=\"1\" class=\"dataframe\">\n",
       "  <thead>\n",
       "    <tr style=\"text-align: right;\">\n",
       "      <th></th>\n",
       "      <th>Processing_Time (s)</th>\n",
       "      <th>Accuracy (%)</th>\n",
       "      <th>Energy_Consumption (kWh)</th>\n",
       "      <th>Interaction_Count</th>\n",
       "      <th>Steps_Walked</th>\n",
       "      <th>Objects_Recognized</th>\n",
       "      <th>Learning_Sessions</th>\n",
       "      <th>Energy_Consumption (kWh).1</th>\n",
       "    </tr>\n",
       "  </thead>\n",
       "  <tbody>\n",
       "    <tr>\n",
       "      <th>count</th>\n",
       "      <td>500.000000</td>\n",
       "      <td>500.000000</td>\n",
       "      <td>500.000000</td>\n",
       "      <td>500.000000</td>\n",
       "      <td>500.000000</td>\n",
       "      <td>500.000000</td>\n",
       "      <td>500.000000</td>\n",
       "      <td>500.000000</td>\n",
       "    </tr>\n",
       "    <tr>\n",
       "      <th>mean</th>\n",
       "      <td>59.937000</td>\n",
       "      <td>94.920600</td>\n",
       "      <td>2.014000</td>\n",
       "      <td>5.510000</td>\n",
       "      <td>28.758000</td>\n",
       "      <td>4.650000</td>\n",
       "      <td>35.960000</td>\n",
       "      <td>236.250000</td>\n",
       "    </tr>\n",
       "    <tr>\n",
       "      <th>std</th>\n",
       "      <td>11.688808</td>\n",
       "      <td>2.900949</td>\n",
       "      <td>0.582789</td>\n",
       "      <td>2.486416</td>\n",
       "      <td>11.094757</td>\n",
       "      <td>2.521948</td>\n",
       "      <td>19.797532</td>\n",
       "      <td>146.681008</td>\n",
       "    </tr>\n",
       "    <tr>\n",
       "      <th>min</th>\n",
       "      <td>40.100000</td>\n",
       "      <td>90.000000</td>\n",
       "      <td>1.000000</td>\n",
       "      <td>0.000000</td>\n",
       "      <td>0.000000</td>\n",
       "      <td>0.000000</td>\n",
       "      <td>10.000000</td>\n",
       "      <td>100.000000</td>\n",
       "    </tr>\n",
       "    <tr>\n",
       "      <th>25%</th>\n",
       "      <td>49.675000</td>\n",
       "      <td>92.500000</td>\n",
       "      <td>1.500000</td>\n",
       "      <td>3.000000</td>\n",
       "      <td>22.000000</td>\n",
       "      <td>2.750000</td>\n",
       "      <td>20.000000</td>\n",
       "      <td>119.500000</td>\n",
       "    </tr>\n",
       "    <tr>\n",
       "      <th>50%</th>\n",
       "      <td>59.600000</td>\n",
       "      <td>94.900000</td>\n",
       "      <td>2.000000</td>\n",
       "      <td>6.000000</td>\n",
       "      <td>29.000000</td>\n",
       "      <td>5.000000</td>\n",
       "      <td>31.000000</td>\n",
       "      <td>181.500000</td>\n",
       "    </tr>\n",
       "    <tr>\n",
       "      <th>75%</th>\n",
       "      <td>70.000000</td>\n",
       "      <td>97.500000</td>\n",
       "      <td>2.500000</td>\n",
       "      <td>7.000000</td>\n",
       "      <td>36.000000</td>\n",
       "      <td>7.000000</td>\n",
       "      <td>49.000000</td>\n",
       "      <td>320.250000</td>\n",
       "    </tr>\n",
       "    <tr>\n",
       "      <th>max</th>\n",
       "      <td>80.000000</td>\n",
       "      <td>99.900000</td>\n",
       "      <td>3.000000</td>\n",
       "      <td>12.000000</td>\n",
       "      <td>49.000000</td>\n",
       "      <td>9.000000</td>\n",
       "      <td>91.000000</td>\n",
       "      <td>654.000000</td>\n",
       "    </tr>\n",
       "  </tbody>\n",
       "</table>\n",
       "</div>"
      ],
      "text/plain": [
       "       Processing_Time (s)  Accuracy (%)  Energy_Consumption (kWh)  \\\n",
       "count           500.000000    500.000000                500.000000   \n",
       "mean             59.937000     94.920600                  2.014000   \n",
       "std              11.688808      2.900949                  0.582789   \n",
       "min              40.100000     90.000000                  1.000000   \n",
       "25%              49.675000     92.500000                  1.500000   \n",
       "50%              59.600000     94.900000                  2.000000   \n",
       "75%              70.000000     97.500000                  2.500000   \n",
       "max              80.000000     99.900000                  3.000000   \n",
       "\n",
       "       Interaction_Count  Steps_Walked  Objects_Recognized  Learning_Sessions  \\\n",
       "count         500.000000    500.000000          500.000000         500.000000   \n",
       "mean            5.510000     28.758000            4.650000          35.960000   \n",
       "std             2.486416     11.094757            2.521948          19.797532   \n",
       "min             0.000000      0.000000            0.000000          10.000000   \n",
       "25%             3.000000     22.000000            2.750000          20.000000   \n",
       "50%             6.000000     29.000000            5.000000          31.000000   \n",
       "75%             7.000000     36.000000            7.000000          49.000000   \n",
       "max            12.000000     49.000000            9.000000          91.000000   \n",
       "\n",
       "       Energy_Consumption (kWh).1  \n",
       "count                  500.000000  \n",
       "mean                   236.250000  \n",
       "std                    146.681008  \n",
       "min                    100.000000  \n",
       "25%                    119.500000  \n",
       "50%                    181.500000  \n",
       "75%                    320.250000  \n",
       "max                    654.000000  "
      ]
     },
     "execution_count": 6,
     "metadata": {},
     "output_type": "execute_result"
    }
   ],
   "source": [
    "x.describe()"
   ]
  },
  {
   "cell_type": "code",
   "execution_count": 7,
   "id": "2a7ab836-b488-4cd3-9101-d942ede51c8e",
   "metadata": {},
   "outputs": [
    {
     "data": {
      "text/plain": [
       "array([[1.        , 0.00154781],\n",
       "       [0.00154781, 1.        ]])"
      ]
     },
     "execution_count": 7,
     "metadata": {},
     "output_type": "execute_result"
    }
   ],
   "source": [
    "c = np.corrcoef(x['Steps_Walked'],x['Energy_Consumption (kWh)'])\n",
    "c"
   ]
  },
  {
   "cell_type": "code",
   "execution_count": 8,
   "id": "5d6c10f1-9748-48b4-a9c6-9540cf08cbf2",
   "metadata": {},
   "outputs": [
    {
     "data": {
      "text/plain": [
       "391.15840000000026"
      ]
     },
     "execution_count": 8,
     "metadata": {},
     "output_type": "execute_result"
    }
   ],
   "source": [
    "np.var(x['Learning_Sessions'])"
   ]
  },
  {
   "cell_type": "code",
   "execution_count": 9,
   "id": "3670162e-31b0-4830-b0f6-a99928d5d10f",
   "metadata": {},
   "outputs": [],
   "source": [
    "import matplotlib.pyplot as plt"
   ]
  },
  {
   "cell_type": "code",
   "execution_count": 10,
   "id": "b2ec47bb-1136-4d43-9757-37481ca6df91",
   "metadata": {},
   "outputs": [
    {
     "data": {
      "text/plain": [
       "(array([15., 35., 75., 60., 60., 75., 45., 50., 40., 45.]),\n",
       " array([0. , 0.9, 1.8, 2.7, 3.6, 4.5, 5.4, 6.3, 7.2, 8.1, 9. ]),\n",
       " <BarContainer object of 10 artists>)"
      ]
     },
     "execution_count": 10,
     "metadata": {},
     "output_type": "execute_result"
    },
    {
     "data": {
      "image/png": "[encoded data removed]",
      "text/plain": [
       "<Figure size 640x480 with 1 Axes>"
      ]
     },
     "metadata": {},
     "output_type": "display_data"
    }
   ],
   "source": [
    "plt.hist(x.Objects_Recognized)"
   ]
  },
  {
   "cell_type": "code",
   "execution_count": 11,
   "id": "a0fa1c7d-2db5-452c-b0fb-b4302a45e56f",
   "metadata": {},
   "outputs": [
    {
     "name": "stdout",
     "output_type": "stream",
     "text": [
      "Hello, my name is Alice. I am 30 years old, my height is 5.7 feet, and it is True that I am a student.\n"
     ]
    }
   ],
   "source": [
    "#3\n",
    "name = \"Alice\"        \n",
    "age = 30              \n",
    "height = 5.7          \n",
    "is_student = True     \n",
    "print(f\"Hello, my name is {name}. I am {age} years old, my height is {height} feet, and it is {is_student} that I am a student.\")\n"
   ]
  },
  {
   "cell_type": "code",
   "execution_count": 12,
   "id": "deb56741-80f5-4a06-a848-5a832ba48e7e",
   "metadata": {},
   "outputs": [
    {
     "name": "stdin",
     "output_type": "stream",
     "text": [
      "Enter a number:  3\n"
     ]
    },
    {
     "name": "stdout",
     "output_type": "stream",
     "text": [
      "Positive number\n"
     ]
    }
   ],
   "source": [
    "#4\n",
    "num = float(input(\"Enter a number: \"))\n",
    "if num > 0:\n",
    "   print(\"Positive number\")\n",
    "elif num == 0:\n",
    "   print(\"Zero\")\n",
    "else:\n",
    "   print(\"Negative number\")"
   ]
  },
  {
   "cell_type": "code",
   "execution_count": 13,
   "id": "bb4ea204-5344-4729-899c-94c9cdcb0d39",
   "metadata": {},
   "outputs": [
    {
     "name": "stdin",
     "output_type": "stream",
     "text": [
      " 58\n"
     ]
    },
    {
     "name": "stdout",
     "output_type": "stream",
     "text": [
      "58 X 1 = 58\n",
      "58 X 2 = 116\n",
      "58 X 3 = 174\n",
      "58 X 4 = 232\n",
      "58 X 5 = 290\n",
      "58 X 6 = 348\n",
      "58 X 7 = 406\n",
      "58 X 8 = 464\n",
      "58 X 9 = 522\n",
      "58 X 10 = 580\n"
     ]
    }
   ],
   "source": [
    "#5\n",
    "b=int(input())\n",
    "for i in range(1,11):\n",
    "    y=b*i\n",
    "    print(b,\"X\",i,\"=\",y)"
   ]
  },
  {
   "cell_type": "code",
   "execution_count": 14,
   "id": "fd30ad18-97ad-4436-a2f4-6082e390237d",
   "metadata": {},
   "outputs": [],
   "source": [
    "#6\n",
    "fruits=['Apple','Banana','Pineapple','Mango','Grapes']"
   ]
  },
  {
   "cell_type": "code",
   "execution_count": 15,
   "id": "e946c7d2-e0fa-41f3-b7ef-eacc53f36388",
   "metadata": {},
   "outputs": [
    {
     "name": "stdout",
     "output_type": "stream",
     "text": [
      "Apple\n",
      "Grapes\n",
      "['Apple', 'Banana', 'Pineapple', 'Mango']\n"
     ]
    }
   ],
   "source": [
    "print(fruits[0])\n",
    "print(fruits[-1])\n",
    "print(fruits[0:4])"
   ]
  },
  {
   "cell_type": "code",
   "execution_count": 16,
   "id": "b8178c02-8f2d-4313-82f0-96cb0e3130f5",
   "metadata": {},
   "outputs": [
    {
     "name": "stdout",
     "output_type": "stream",
     "text": [
      "1\n",
      "5\n",
      "(2, 3)\n"
     ]
    }
   ],
   "source": [
    "#7\n",
    "nu=(1,2,3,4,5)\n",
    "print(nu[0])\n",
    "print(nu[-1])\n",
    "print(nu[1:3])"
   ]
  },
  {
   "cell_type": "code",
   "execution_count": 17,
   "id": "9afe58ec-fdf3-442b-b782-1dd38c71d296",
   "metadata": {},
   "outputs": [
    {
     "name": "stdout",
     "output_type": "stream",
     "text": [
      "77\n",
      "55\n",
      "dict_keys(['Arun', 'Akash', 'Rohan'])\n",
      "dict_values([55, 77, 90])\n"
     ]
    }
   ],
   "source": [
    "#8\n",
    "Marks={\"Arun\": 55, \"Akash\": 77, \"Rohan\": 90}\n",
    "\n",
    "print(Marks[\"Akash\"])\n",
    "print(Marks.get(\"Arun\"))\n",
    "print(Marks.keys())\n",
    "print(Marks.values())"
   ]
  },
  {
   "cell_type": "code",
   "execution_count": 18,
   "id": "9ecda286-94d6-4ffd-a41f-9ab2582d48ac",
   "metadata": {},
   "outputs": [
    {
     "data": {
      "text/plain": [
       "269"
      ]
     },
     "execution_count": 18,
     "metadata": {},
     "output_type": "execute_result"
    }
   ],
   "source": [
    "#9\n",
    "num1 = 235\n",
    "num2 = 34\n",
    "num1 + num2 "
   ]
  },
  {
   "cell_type": "code",
   "execution_count": 19,
   "id": "1acfc8d7-3bbf-4b2d-bfe7-3988174eccef",
   "metadata": {},
   "outputs": [
    {
     "data": {
      "text/plain": [
       "201"
      ]
     },
     "execution_count": 19,
     "metadata": {},
     "output_type": "execute_result"
    }
   ],
   "source": [
    "num1 - num2"
   ]
  },
  {
   "cell_type": "code",
   "execution_count": 20,
   "id": "b1fa24fb-689b-4cb9-9800-4aaf6fafc903",
   "metadata": {},
   "outputs": [
    {
     "data": {
      "text/plain": [
       "6.911764705882353"
      ]
     },
     "execution_count": 20,
     "metadata": {},
     "output_type": "execute_result"
    }
   ],
   "source": [
    "num1 / num2"
   ]
  },
  {
   "cell_type": "code",
   "execution_count": 21,
   "id": "1f97a445-bb0c-4be0-9413-d8a3c779108e",
   "metadata": {},
   "outputs": [
    {
     "data": {
      "text/plain": [
       "6"
      ]
     },
     "execution_count": 21,
     "metadata": {},
     "output_type": "execute_result"
    }
   ],
   "source": [
    "num1//num2"
   ]
  },
  {
   "cell_type": "code",
   "execution_count": 22,
   "id": "96bd537b-067e-4a1d-a68f-09a69e93ba26",
   "metadata": {},
   "outputs": [
    {
     "data": {
      "text/plain": [
       "7990"
      ]
     },
     "execution_count": 22,
     "metadata": {},
     "output_type": "execute_result"
    }
   ],
   "source": [
    "num1*num2"
   ]
  },
  {
   "cell_type": "code",
   "execution_count": 23,
   "id": "b9a96bc7-a7ef-49fa-b908-d1d23a47e397",
   "metadata": {},
   "outputs": [
    {
     "data": {
      "text/plain": [
       "7"
      ]
     },
     "execution_count": 23,
     "metadata": {},
     "output_type": "execute_result"
    }
   ],
   "source": [
    "#10\n",
    "def find_largest(l1) -> int:\n",
    "  return max(l1)\n",
    "l1 = [2,3,4,5,6,7]\n",
    "find_largest(l1)"
   ]
  },
  {
   "cell_type": "code",
   "execution_count": 24,
   "id": "9f5f369a-ae98-4901-bd16-12aa3b2db465",
   "metadata": {},
   "outputs": [
    {
     "data": {
      "text/plain": [
       "[4, 16, 36, 64, 100, 144, 196, 256, 324, 400]"
      ]
     },
     "execution_count": 24,
     "metadata": {},
     "output_type": "execute_result"
    }
   ],
   "source": [
    "#11\n",
    "sq= [value**2 for value in range(1 , 21) if value % 2 ==  0 ]\n",
    "sq"
   ]
  },
  {
   "cell_type": "code",
   "execution_count": 25,
   "id": "73751326-5df1-4dd3-aefa-4cbc776063bf",
   "metadata": {},
   "outputs": [
    {
     "data": {
      "text/plain": [
       "782"
      ]
     },
     "execution_count": 25,
     "metadata": {},
     "output_type": "execute_result"
    }
   ],
   "source": [
    "#12\n",
    "fun=lambda x,y:x*y\n",
    "fun(23,34)"
   ]
  },
  {
   "cell_type": "code",
   "execution_count": 26,
   "id": "96a7d94d-ba86-4434-b630-5f088672f6a4",
   "metadata": {},
   "outputs": [
    {
     "name": "stdout",
     "output_type": "stream",
     "text": [
      "1D Shape: (5,) Dimensions: 1\n",
      "2D Shape: (2, 3) Dimensions: 2\n",
      "3D Shape: (2, 2, 2) Dimensions: 3\n"
     ]
    }
   ],
   "source": [
    "#13\n",
    "a1d = np.array([1, 2, 3, 4, 5])\n",
    "a2d = np.array([[1, 2, 3], [4, 5, 6]])\n",
    "a3d = np.array([[[1, 2], [3, 4]], [[5, 6], [7, 8]]])\n",
    "print(\"1D Shape:\",a1d.shape, \"Dimensions:\", a1d.ndim)\n",
    "print(\"2D Shape:\", a2d.shape, \"Dimensions:\", a2d.ndim)\n",
    "print(\"3D Shape:\", a3d.shape, \"Dimensions:\", a3d.ndim)"
   ]
  },
  {
   "cell_type": "code",
   "execution_count": 27,
   "id": "60965fdc-48d7-4004-b478-96b1cc2f452f",
   "metadata": {},
   "outputs": [
    {
     "data": {
      "text/plain": [
       "array([[0.07335926, 0.34768582, 0.13328316, 0.61733989, 0.03198633],\n",
       "       [0.70083508, 0.11150137, 0.7703526 , 0.83774067, 0.61130358],\n",
       "       [0.65924343, 0.57609995, 0.0326403 , 0.32618114, 0.54335157],\n",
       "       [0.60807907, 0.63109894, 0.55719123, 0.14735063, 0.96666523],\n",
       "       [0.00111126, 0.91470666, 0.86885539, 0.33740858, 0.33531551]])"
      ]
     },
     "execution_count": 27,
     "metadata": {},
     "output_type": "execute_result"
    }
   ],
   "source": [
    "#14\n",
    "np.random.random((5, 5))"
   ]
  },
  {
   "cell_type": "code",
   "execution_count": 28,
   "id": "5a838694-2c37-497c-b64d-afde8abe0acb",
   "metadata": {},
   "outputs": [
    {
     "data": {
      "text/plain": [
       "array([[ 5,  6],\n",
       "       [ 9, 10],\n",
       "       [13, 14]])"
      ]
     },
     "execution_count": 28,
     "metadata": {},
     "output_type": "execute_result"
    }
   ],
   "source": [
    "#15\n",
    "y=np.arange(1, 17).reshape(4, 4)\n",
    "y[1:,:2]"
   ]
  },
  {
   "cell_type": "code",
   "execution_count": 29,
   "id": "ed719d3e-a2f7-4312-aafc-ea5ee6e4c949",
   "metadata": {},
   "outputs": [
    {
     "data": {
      "text/plain": [
       "array([[ 0,  1],\n",
       "       [ 2,  3],\n",
       "       [ 4,  5],\n",
       "       [ 6,  7],\n",
       "       [ 8,  9],\n",
       "       [10, 11]])"
      ]
     },
     "execution_count": 29,
     "metadata": {},
     "output_type": "execute_result"
    }
   ],
   "source": [
    "#16\n",
    "a2d = np.arange(12).reshape(6, 2)\n",
    "a3d = a2d.reshape(2, 3, 2)\n",
    "a3= a3d.flatten()\n",
    "a2d"
   ]
  },
  {
   "cell_type": "code",
   "execution_count": 30,
   "id": "e60dd4a7-243d-47c3-89ac-d17aa652e951",
   "metadata": {},
   "outputs": [
    {
     "data": {
      "text/plain": [
       "array([[[ 0,  1],\n",
       "        [ 2,  3],\n",
       "        [ 4,  5]],\n",
       "\n",
       "       [[ 6,  7],\n",
       "        [ 8,  9],\n",
       "        [10, 11]]])"
      ]
     },
     "execution_count": 30,
     "metadata": {},
     "output_type": "execute_result"
    }
   ],
   "source": [
    "a3d"
   ]
  },
  {
   "cell_type": "code",
   "execution_count": 31,
   "id": "51b3e211-3ed6-43e8-b107-f79d1a039d35",
   "metadata": {},
   "outputs": [
    {
     "data": {
      "text/plain": [
       "array([ 0,  1,  2,  3,  4,  5,  6,  7,  8,  9, 10, 11])"
      ]
     },
     "execution_count": 31,
     "metadata": {},
     "output_type": "execute_result"
    }
   ],
   "source": [
    "a3"
   ]
  },
  {
   "cell_type": "code",
   "execution_count": 32,
   "id": "6e4ccafa-c369-4539-ab97-4b893b2789e9",
   "metadata": {},
   "outputs": [
    {
     "data": {
      "text/plain": [
       "array([[ 0,  2,  4],\n",
       "       [ 3,  5,  7],\n",
       "       [ 6,  8, 10]])"
      ]
     },
     "execution_count": 32,
     "metadata": {},
     "output_type": "execute_result"
    }
   ],
   "source": [
    "#17\n",
    "arr1 = np.arange(9).reshape(3 , 3)\n",
    "arr2 = np.arange(3).reshape(1 , 3)\n",
    "arr1 + arr2"
   ]
  },
  {
   "cell_type": "code",
   "execution_count": 33,
   "id": "18ebbb50-0dac-424e-b415-a5fad138fb7a",
   "metadata": {},
   "outputs": [
    {
     "data": {
      "text/plain": [
       "array([[ 0,  2,  4],\n",
       "       [ 6,  8, 10],\n",
       "       [12, 14, 16]])"
      ]
     },
     "execution_count": 33,
     "metadata": {},
     "output_type": "execute_result"
    }
   ],
   "source": [
    "#18\n",
    "arr1 = np.arange(9).reshape(3 , 3)\n",
    "arr2 = np.arange(9).reshape(3 , 3)\n",
    "arr1+arr2"
   ]
  },
  {
   "cell_type": "code",
   "execution_count": 34,
   "id": "8626fefd-be39-425c-afbc-fcf673bbcdd8",
   "metadata": {},
   "outputs": [
    {
     "data": {
      "text/plain": [
       "array([[ 0,  1,  4],\n",
       "       [ 9, 16, 25],\n",
       "       [36, 49, 64]])"
      ]
     },
     "execution_count": 34,
     "metadata": {},
     "output_type": "execute_result"
    }
   ],
   "source": [
    "arr1*arr2"
   ]
  },
  {
   "cell_type": "code",
   "execution_count": 35,
   "id": "bb6eacaf-5909-473a-b02e-24173a1833f3",
   "metadata": {},
   "outputs": [
    {
     "name": "stderr",
     "output_type": "stream",
     "text": [
      "C:\\Users\\naras\\AppData\\Local\\Temp\\ipykernel_32108\\1293873619.py:1: RuntimeWarning: divide by zero encountered in floor_divide\n",
      "  arr1//arr2\n"
     ]
    },
    {
     "data": {
      "text/plain": [
       "array([[0, 1, 1],\n",
       "       [1, 1, 1],\n",
       "       [1, 1, 1]])"
      ]
     },
     "execution_count": 35,
     "metadata": {},
     "output_type": "execute_result"
    }
   ],
   "source": [
    "arr1//arr2"
   ]
  },
  {
   "cell_type": "code",
   "execution_count": 36,
   "id": "ec900607-9878-4c71-a1eb-321517962f4f",
   "metadata": {},
   "outputs": [
    {
     "data": {
      "text/plain": [
       "array([[0, 0, 0],\n",
       "       [0, 0, 0],\n",
       "       [0, 0, 0]])"
      ]
     },
     "execution_count": 36,
     "metadata": {},
     "output_type": "execute_result"
    }
   ],
   "source": [
    "arr1-arr2"
   ]
  },
  {
   "cell_type": "code",
   "execution_count": 37,
   "id": "b338a8fb-8353-4008-9fb5-7bba93be6719",
   "metadata": {},
   "outputs": [
    {
     "data": {
      "text/html": [
       "<div>\n",
       "<style scoped>\n",
       "    .dataframe tbody tr th:only-of-type {\n",
       "        vertical-align: middle;\n",
       "    }\n",
       "\n",
       "    .dataframe tbody tr th {\n",
       "        vertical-align: top;\n",
       "    }\n",
       "\n",
       "    .dataframe thead th {\n",
       "        text-align: right;\n",
       "    }\n",
       "</style>\n",
       "<table border=\"1\" class=\"dataframe\">\n",
       "  <thead>\n",
       "    <tr style=\"text-align: right;\">\n",
       "      <th></th>\n",
       "      <th>Name</th>\n",
       "      <th>math</th>\n",
       "      <th>ss</th>\n",
       "      <th>DSA</th>\n",
       "    </tr>\n",
       "  </thead>\n",
       "  <tbody>\n",
       "    <tr>\n",
       "      <th>0</th>\n",
       "      <td>Arun</td>\n",
       "      <td>67</td>\n",
       "      <td>88</td>\n",
       "      <td>78</td>\n",
       "    </tr>\n",
       "    <tr>\n",
       "      <th>1</th>\n",
       "      <td>Amog</td>\n",
       "      <td>77</td>\n",
       "      <td>78</td>\n",
       "      <td>90</td>\n",
       "    </tr>\n",
       "    <tr>\n",
       "      <th>2</th>\n",
       "      <td>ROhan</td>\n",
       "      <td>78</td>\n",
       "      <td>66</td>\n",
       "      <td>97</td>\n",
       "    </tr>\n",
       "  </tbody>\n",
       "</table>\n",
       "</div>"
      ],
      "text/plain": [
       "    Name  math  ss  DSA\n",
       "0   Arun    67  88   78\n",
       "1   Amog    77  78   90\n",
       "2  ROhan    78  66   97"
      ]
     },
     "execution_count": 37,
     "metadata": {},
     "output_type": "execute_result"
    }
   ],
   "source": [
    "#19\n",
    "d={\"Name\" : [\"Arun\" , \"Amog\" , \"ROhan\"] ,\n",
    "      \"math\" : [67,77,78] , \n",
    "      \"ss\" : [88,78,66] ,\n",
    "      \"DSA\" : [78,90,97]}\n",
    "df= pd.DataFrame(d)\n",
    "df"
   ]
  },
  {
   "cell_type": "code",
   "execution_count": 38,
   "id": "6539d22c-5029-4387-9f93-d9128338461f",
   "metadata": {},
   "outputs": [
    {
     "data": {
      "text/html": [
       "<div>\n",
       "<style scoped>\n",
       "    .dataframe tbody tr th:only-of-type {\n",
       "        vertical-align: middle;\n",
       "    }\n",
       "\n",
       "    .dataframe tbody tr th {\n",
       "        vertical-align: top;\n",
       "    }\n",
       "\n",
       "    .dataframe thead th {\n",
       "        text-align: right;\n",
       "    }\n",
       "</style>\n",
       "<table border=\"1\" class=\"dataframe\">\n",
       "  <thead>\n",
       "    <tr style=\"text-align: right;\">\n",
       "      <th></th>\n",
       "      <th>Name</th>\n",
       "      <th>math</th>\n",
       "      <th>ss</th>\n",
       "      <th>DSA</th>\n",
       "      <th>Total</th>\n",
       "    </tr>\n",
       "  </thead>\n",
       "  <tbody>\n",
       "    <tr>\n",
       "      <th>0</th>\n",
       "      <td>Arun</td>\n",
       "      <td>67</td>\n",
       "      <td>88</td>\n",
       "      <td>78</td>\n",
       "      <td>233</td>\n",
       "    </tr>\n",
       "    <tr>\n",
       "      <th>1</th>\n",
       "      <td>Amog</td>\n",
       "      <td>77</td>\n",
       "      <td>78</td>\n",
       "      <td>90</td>\n",
       "      <td>245</td>\n",
       "    </tr>\n",
       "    <tr>\n",
       "      <th>2</th>\n",
       "      <td>ROhan</td>\n",
       "      <td>78</td>\n",
       "      <td>66</td>\n",
       "      <td>97</td>\n",
       "      <td>241</td>\n",
       "    </tr>\n",
       "  </tbody>\n",
       "</table>\n",
       "</div>"
      ],
      "text/plain": [
       "    Name  math  ss  DSA  Total\n",
       "0   Arun    67  88   78    233\n",
       "1   Amog    77  78   90    245\n",
       "2  ROhan    78  66   97    241"
      ]
     },
     "execution_count": 38,
     "metadata": {},
     "output_type": "execute_result"
    }
   ],
   "source": [
    "df['Total'] = df.math + df.ss + df.DSA\n",
    "df"
   ]
  },
  {
   "cell_type": "code",
   "execution_count": 39,
   "id": "89f57b54-bba5-47e3-938e-c1d78b39fcdf",
   "metadata": {},
   "outputs": [
    {
     "data": {
      "text/html": [
       "<div>\n",
       "<style scoped>\n",
       "    .dataframe tbody tr th:only-of-type {\n",
       "        vertical-align: middle;\n",
       "    }\n",
       "\n",
       "    .dataframe tbody tr th {\n",
       "        vertical-align: top;\n",
       "    }\n",
       "\n",
       "    .dataframe thead th {\n",
       "        text-align: right;\n",
       "    }\n",
       "</style>\n",
       "<table border=\"1\" class=\"dataframe\">\n",
       "  <thead>\n",
       "    <tr style=\"text-align: right;\">\n",
       "      <th></th>\n",
       "      <th>Name</th>\n",
       "      <th>math</th>\n",
       "      <th>ss</th>\n",
       "      <th>DSA</th>\n",
       "      <th>Total</th>\n",
       "      <th>Grade</th>\n",
       "    </tr>\n",
       "  </thead>\n",
       "  <tbody>\n",
       "    <tr>\n",
       "      <th>0</th>\n",
       "      <td>Arun</td>\n",
       "      <td>67</td>\n",
       "      <td>88</td>\n",
       "      <td>78</td>\n",
       "      <td>233</td>\n",
       "      <td>B</td>\n",
       "    </tr>\n",
       "    <tr>\n",
       "      <th>1</th>\n",
       "      <td>Amog</td>\n",
       "      <td>77</td>\n",
       "      <td>78</td>\n",
       "      <td>90</td>\n",
       "      <td>245</td>\n",
       "      <td>B</td>\n",
       "    </tr>\n",
       "    <tr>\n",
       "      <th>2</th>\n",
       "      <td>ROhan</td>\n",
       "      <td>78</td>\n",
       "      <td>66</td>\n",
       "      <td>97</td>\n",
       "      <td>241</td>\n",
       "      <td>B</td>\n",
       "    </tr>\n",
       "  </tbody>\n",
       "</table>\n",
       "</div>"
      ],
      "text/plain": [
       "    Name  math  ss  DSA  Total Grade\n",
       "0   Arun    67  88   78    233     B\n",
       "1   Amog    77  78   90    245     B\n",
       "2  ROhan    78  66   97    241     B"
      ]
     },
     "execution_count": 39,
     "metadata": {},
     "output_type": "execute_result"
    }
   ],
   "source": [
    "df['Grade'] = df.Total > 275\n",
    "df.Grade = np.where(df.Grade == True , 'A' , 'B')\n",
    "df"
   ]
  },
  {
   "cell_type": "markdown",
   "id": "c328fb15-b9fe-4295-a5e7-41d7c4027528",
   "metadata": {},
   "source": [
    "###### "
   ]
  },
  {
   "cell_type": "code",
   "execution_count": null,
   "id": "c8db882c-846d-4df4-a999-72ae0600f33f",
   "metadata": {},
   "outputs": [],
   "source": []
  }
 ],
 "metadata": {
  "kernelspec": {
   "display_name": "Python [conda env:base] *",
   "language": "python",
   "name": "conda-base-py"
  },
  "language_info": {
   "codemirror_mode": {
    "name": "ipython",
    "version": 3
   },
   "file_extension": ".py",
   "mimetype": "text/x-python",
   "name": "python",
   "nbconvert_exporter": "python",
   "pygments_lexer": "ipython3",
   "version": "3.12.7"
  }
 },
 "nbformat": 4,
 "nbformat_minor": 5
}
